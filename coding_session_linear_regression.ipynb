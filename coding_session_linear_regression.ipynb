{
 "cells": [
  {
   "cell_type": "markdown",
   "metadata": {},
   "source": [
    "# Linear Regression Using TensorFlow"
   ]
  },
  {
   "cell_type": "markdown",
   "metadata": {},
   "source": [
    "We will be using [Galton's Height Data](http://www.randomservices.org/random/data/Galton.html) for our coding session to build something cool using linear regression. First we'll get the data and do some pre-processing. \n",
    "\n",
    "If you're a novice to `tf`, to follow the below code, I strongly recommend a beginner tutorial on TensorFlow. You can get my tutorial [here.](https://github.com/sleebapaul/hello_tensorflow/blob/master/hello_tensorflow.ipynb)"
   ]
  },
  {
   "cell_type": "code",
   "execution_count": 1,
   "metadata": {
    "collapsed": true
   },
   "outputs": [],
   "source": [
    "# import the required libraries\n",
    "%matplotlib inline\n",
    "import matplotlib.pyplot as plt\n",
    "import numpy as np\n",
    "import pandas as pd\n",
    "import tensorflow as tf"
   ]
  },
  {
   "cell_type": "code",
   "execution_count": 2,
   "metadata": {},
   "outputs": [
    {
     "name": "stdout",
     "output_type": "stream",
     "text": [
      "  Family  Father  Mother Gender  Height  Kids\n",
      "0      1    78.5    67.0      M    73.2     4\n",
      "1      1    78.5    67.0      F    69.2     4\n",
      "2      1    78.5    67.0      F    69.0     4\n",
      "3      1    78.5    67.0      F    69.0     4\n",
      "4      2    75.5    66.5      M    73.5     4\n"
     ]
    }
   ],
   "source": [
    "# read the data set and show it's head\n",
    "\n",
    "df_path = \"Datasets/Galton.txt\"\n",
    "df = pd.read_csv(df_path, header= 0, sep=\"\\t\")\n",
    "print (df.head())"
   ]
  },
  {
   "cell_type": "markdown",
   "metadata": {},
   "source": [
    "We are interested in Heights of Father and Mother for our application. It's unit is in inches. We'll convert it into centimeters for our use. Again, there are multiple records for each set of parents. This will be squeezed to single records. "
   ]
  },
  {
   "cell_type": "code",
   "execution_count": 3,
   "metadata": {},
   "outputs": [
    {
     "data": {
      "text/html": [
       "<div>\n",
       "<style>\n",
       "    .dataframe thead tr:only-child th {\n",
       "        text-align: right;\n",
       "    }\n",
       "\n",
       "    .dataframe thead th {\n",
       "        text-align: left;\n",
       "    }\n",
       "\n",
       "    .dataframe tbody tr th {\n",
       "        vertical-align: top;\n",
       "    }\n",
       "</style>\n",
       "<table border=\"1\" class=\"dataframe\">\n",
       "  <thead>\n",
       "    <tr style=\"text-align: right;\">\n",
       "      <th></th>\n",
       "      <th>Father</th>\n",
       "      <th>Mother</th>\n",
       "    </tr>\n",
       "  </thead>\n",
       "  <tbody>\n",
       "    <tr>\n",
       "      <th>0</th>\n",
       "      <td>78.5</td>\n",
       "      <td>67.0</td>\n",
       "    </tr>\n",
       "    <tr>\n",
       "      <th>1</th>\n",
       "      <td>78.5</td>\n",
       "      <td>67.0</td>\n",
       "    </tr>\n",
       "    <tr>\n",
       "      <th>2</th>\n",
       "      <td>78.5</td>\n",
       "      <td>67.0</td>\n",
       "    </tr>\n",
       "    <tr>\n",
       "      <th>3</th>\n",
       "      <td>78.5</td>\n",
       "      <td>67.0</td>\n",
       "    </tr>\n",
       "    <tr>\n",
       "      <th>4</th>\n",
       "      <td>75.5</td>\n",
       "      <td>66.5</td>\n",
       "    </tr>\n",
       "  </tbody>\n",
       "</table>\n",
       "</div>"
      ],
      "text/plain": [
       "   Father  Mother\n",
       "0    78.5    67.0\n",
       "1    78.5    67.0\n",
       "2    78.5    67.0\n",
       "3    78.5    67.0\n",
       "4    75.5    66.5"
      ]
     },
     "execution_count": 3,
     "metadata": {},
     "output_type": "execute_result"
    }
   ],
   "source": [
    "# select the required columns\n",
    "df_new = df.loc[:, ['Father','Mother']]\n",
    "df_new.head()"
   ]
  },
  {
   "cell_type": "code",
   "execution_count": 4,
   "metadata": {
    "scrolled": true
   },
   "outputs": [
    {
     "data": {
      "text/html": [
       "<div>\n",
       "<style>\n",
       "    .dataframe thead tr:only-child th {\n",
       "        text-align: right;\n",
       "    }\n",
       "\n",
       "    .dataframe thead th {\n",
       "        text-align: left;\n",
       "    }\n",
       "\n",
       "    .dataframe tbody tr th {\n",
       "        vertical-align: top;\n",
       "    }\n",
       "</style>\n",
       "<table border=\"1\" class=\"dataframe\">\n",
       "  <thead>\n",
       "    <tr style=\"text-align: right;\">\n",
       "      <th></th>\n",
       "      <th>Father</th>\n",
       "      <th>Mother</th>\n",
       "    </tr>\n",
       "  </thead>\n",
       "  <tbody>\n",
       "    <tr>\n",
       "      <th>0</th>\n",
       "      <td>78.5</td>\n",
       "      <td>67.0</td>\n",
       "    </tr>\n",
       "    <tr>\n",
       "      <th>1</th>\n",
       "      <td>75.5</td>\n",
       "      <td>66.5</td>\n",
       "    </tr>\n",
       "    <tr>\n",
       "      <th>2</th>\n",
       "      <td>75.0</td>\n",
       "      <td>64.0</td>\n",
       "    </tr>\n",
       "    <tr>\n",
       "      <th>3</th>\n",
       "      <td>75.0</td>\n",
       "      <td>58.5</td>\n",
       "    </tr>\n",
       "    <tr>\n",
       "      <th>4</th>\n",
       "      <td>74.0</td>\n",
       "      <td>68.0</td>\n",
       "    </tr>\n",
       "  </tbody>\n",
       "</table>\n",
       "</div>"
      ],
      "text/plain": [
       "   Father  Mother\n",
       "0    78.5    67.0\n",
       "1    75.5    66.5\n",
       "2    75.0    64.0\n",
       "3    75.0    58.5\n",
       "4    74.0    68.0"
      ]
     },
     "execution_count": 4,
     "metadata": {},
     "output_type": "execute_result"
    }
   ],
   "source": [
    "# remove duplicates \n",
    "df_new = df_new.drop_duplicates(keep='first').reset_index(drop=True)\n",
    "df_new.head()"
   ]
  },
  {
   "cell_type": "markdown",
   "metadata": {},
   "source": [
    "Let's rename the column names and plot it."
   ]
  },
  {
   "cell_type": "code",
   "execution_count": 5,
   "metadata": {},
   "outputs": [
    {
     "data": {
      "text/html": [
       "<div>\n",
       "<style>\n",
       "    .dataframe thead tr:only-child th {\n",
       "        text-align: right;\n",
       "    }\n",
       "\n",
       "    .dataframe thead th {\n",
       "        text-align: left;\n",
       "    }\n",
       "\n",
       "    .dataframe tbody tr th {\n",
       "        vertical-align: top;\n",
       "    }\n",
       "</style>\n",
       "<table border=\"1\" class=\"dataframe\">\n",
       "  <thead>\n",
       "    <tr style=\"text-align: right;\">\n",
       "      <th></th>\n",
       "      <th>father_height</th>\n",
       "      <th>mother_height</th>\n",
       "    </tr>\n",
       "  </thead>\n",
       "  <tbody>\n",
       "    <tr>\n",
       "      <th>0</th>\n",
       "      <td>78.5</td>\n",
       "      <td>67.0</td>\n",
       "    </tr>\n",
       "    <tr>\n",
       "      <th>1</th>\n",
       "      <td>75.5</td>\n",
       "      <td>66.5</td>\n",
       "    </tr>\n",
       "    <tr>\n",
       "      <th>2</th>\n",
       "      <td>75.0</td>\n",
       "      <td>64.0</td>\n",
       "    </tr>\n",
       "    <tr>\n",
       "      <th>3</th>\n",
       "      <td>75.0</td>\n",
       "      <td>58.5</td>\n",
       "    </tr>\n",
       "    <tr>\n",
       "      <th>4</th>\n",
       "      <td>74.0</td>\n",
       "      <td>68.0</td>\n",
       "    </tr>\n",
       "  </tbody>\n",
       "</table>\n",
       "</div>"
      ],
      "text/plain": [
       "   father_height  mother_height\n",
       "0           78.5           67.0\n",
       "1           75.5           66.5\n",
       "2           75.0           64.0\n",
       "3           75.0           58.5\n",
       "4           74.0           68.0"
      ]
     },
     "execution_count": 5,
     "metadata": {},
     "output_type": "execute_result"
    }
   ],
   "source": [
    "df_new.columns = ['father_height', 'mother_height']\n",
    "df_new.head()"
   ]
  },
  {
   "cell_type": "code",
   "execution_count": 6,
   "metadata": {},
   "outputs": [
    {
     "data": {
      "text/html": [
       "<div>\n",
       "<style>\n",
       "    .dataframe thead tr:only-child th {\n",
       "        text-align: right;\n",
       "    }\n",
       "\n",
       "    .dataframe thead th {\n",
       "        text-align: left;\n",
       "    }\n",
       "\n",
       "    .dataframe tbody tr th {\n",
       "        vertical-align: top;\n",
       "    }\n",
       "</style>\n",
       "<table border=\"1\" class=\"dataframe\">\n",
       "  <thead>\n",
       "    <tr style=\"text-align: right;\">\n",
       "      <th></th>\n",
       "      <th>father_height</th>\n",
       "      <th>mother_height</th>\n",
       "    </tr>\n",
       "  </thead>\n",
       "  <tbody>\n",
       "    <tr>\n",
       "      <th>0</th>\n",
       "      <td>199.39</td>\n",
       "      <td>170.18</td>\n",
       "    </tr>\n",
       "    <tr>\n",
       "      <th>1</th>\n",
       "      <td>191.77</td>\n",
       "      <td>168.91</td>\n",
       "    </tr>\n",
       "    <tr>\n",
       "      <th>2</th>\n",
       "      <td>190.50</td>\n",
       "      <td>162.56</td>\n",
       "    </tr>\n",
       "    <tr>\n",
       "      <th>3</th>\n",
       "      <td>190.50</td>\n",
       "      <td>148.59</td>\n",
       "    </tr>\n",
       "    <tr>\n",
       "      <th>4</th>\n",
       "      <td>187.96</td>\n",
       "      <td>172.72</td>\n",
       "    </tr>\n",
       "  </tbody>\n",
       "</table>\n",
       "</div>"
      ],
      "text/plain": [
       "   father_height  mother_height\n",
       "0         199.39         170.18\n",
       "1         191.77         168.91\n",
       "2         190.50         162.56\n",
       "3         190.50         148.59\n",
       "4         187.96         172.72"
      ]
     },
     "execution_count": 6,
     "metadata": {},
     "output_type": "execute_result"
    }
   ],
   "source": [
    "# convert inches to cms\n",
    "df_new = 2.54 * df_new\n",
    "df_new.head()"
   ]
  },
  {
   "cell_type": "code",
   "execution_count": 7,
   "metadata": {
    "collapsed": true
   },
   "outputs": [],
   "source": [
    "x = df_new.father_height.as_matrix()\n",
    "y = df_new.mother_height.as_matrix()"
   ]
  },
  {
   "cell_type": "code",
   "execution_count": 9,
   "metadata": {},
   "outputs": [
    {
     "data": {
      "image/png": "[encoded data removed]",
      "text/plain": [
       "<matplotlib.figure.Figure at 0x1141d1be0>"
      ]
     },
     "metadata": {},
     "output_type": "display_data"
    }
   ],
   "source": [
    "plt.scatter(x, y) # let's plot the distribution\n",
    "\n",
    "plt.xlabel('Height of father') # xlabel\n",
    "plt.ylabel('Height of mother')# y label\n",
    "plt.title('Scatter plot of heights') # title of plot\n",
    "plt.grid(True) # grid on plot surface\n",
    "plt.show()"
   ]
  },
  {
   "cell_type": "markdown",
   "metadata": {},
   "source": [
    "If you observe the data keenly, all we can say that it has a positive growth. We don't know if it is a linear relationship or not. But what we're going to attempt, is to get the best fitted linear line for this data.\n",
    "\n",
    "But, what we're going build with this data? ;) \n",
    "\n",
    "We are going to build a **Height predictor of Partner** given your height. Cool?   \n",
    "\n",
    "For bachelors and bachelorettes, it would be beneficial. For people who are already married, well, nothing can be done, still you can cross check :P \n",
    "\n",
    "To calculate my future partner's height, the jargon would be, \n",
    "\n",
    "- Height of mother will be my dependent variable\n",
    "- Height of father will be my independent variable\n",
    "\n",
    "Additionally, we are going to [mean normalize](https://stats.stackexchange.com/questions/41704/how-and-why-do-normalization-and-feature-scaling-work) our dataset since values in a larger interval may cause converging issues to our optimizer.   \n",
    "\n",
    "$$Mean\\ Normalization\\ of\\ X = \\frac{X - \\mu}{S}$$\n",
    "\n",
    "where $\\mu$ is the mean of the distribution and $S\\ =\\ max(X)\\ -\\ min(X)$ \n",
    "\n",
    "This is not going to change the distribution of our dataset but only change the magnitude. I'll demostrate you that. "
   ]
  },
  {
   "cell_type": "code",
   "execution_count": 10,
   "metadata": {
    "collapsed": true
   },
   "outputs": [],
   "source": [
    "def mean_normalization(X):\n",
    "    \"\"\"\n",
    "    Mean normalize the distribution\n",
    "    \"\"\"\n",
    "    mean = np.mean(X)\n",
    "    min_val = np.min(X)\n",
    "    max_val = np.max(X)\n",
    "    mean_norm = (X - mean)/(max_val - min_val)\n",
    "    return mean_norm"
   ]
  },
  {
   "cell_type": "code",
   "execution_count": 11,
   "metadata": {},
   "outputs": [
    {
     "name": "stdout",
     "output_type": "stream",
     "text": [
      "x Before normalization\n",
      "[ 199.39  191.77  190.5   190.5   187.96  187.96  189.23  187.96  187.96\n",
      "  187.96  185.42  185.42  185.42  185.42  185.42]\n",
      "x After normalization\n",
      "[ 0.54949495  0.36767677  0.33737374  0.33737374  0.27676768  0.27676768\n",
      "  0.30707071  0.27676768  0.27676768  0.27676768  0.21616162  0.21616162\n",
      "  0.21616162  0.21616162  0.21616162]\n"
     ]
    }
   ],
   "source": [
    "print(\"x Before normalization\")\n",
    "print(x[:15])\n",
    "print(\"x After normalization\")\n",
    "x_norm = mean_normalization(x)\n",
    "print(x_norm[:15])"
   ]
  },
  {
   "cell_type": "code",
   "execution_count": 12,
   "metadata": {},
   "outputs": [
    {
     "name": "stdout",
     "output_type": "stream",
     "text": [
      "y Before normalization\n",
      "[ 170.18  168.91  162.56  148.59  172.72  168.91  167.64  166.37  157.48\n",
      "  154.94  170.18  168.91  165.1   163.83  162.56]\n",
      "y After normalization\n",
      "[ 0.24469565  0.20469565  0.00469565 -0.43530435  0.32469565  0.20469565\n",
      "  0.16469565  0.12469565 -0.15530435 -0.23530435  0.24469565  0.20469565\n",
      "  0.08469565  0.04469565  0.00469565]\n"
     ]
    }
   ],
   "source": [
    "print(\"y Before normalization\")\n",
    "print(y[:15])\n",
    "print(\"y After normalization\")\n",
    "y_norm = mean_normalization(y)\n",
    "print(y_norm[:15])"
   ]
  },
  {
   "cell_type": "markdown",
   "metadata": {},
   "source": [
    "Let's plot both distributions before and after mean normalization. "
   ]
  },
  {
   "cell_type": "code",
   "execution_count": 13,
   "metadata": {},
   "outputs": [
    {
     "data": {
      "image/png": "[encoded data removed]",
      "text/plain": [
       "<matplotlib.figure.Figure at 0x1142ef898>"
      ]
     },
     "metadata": {},
     "output_type": "display_data"
    }
   ],
   "source": [
    "# let's plot the graph before normalization\n",
    "plt.scatter(x, y) \n",
    "\n",
    "plt.xlabel('Height of father') # xlabel\n",
    "plt.ylabel('Height of mother')# y label\n",
    "plt.title('Scatter plot of heights - Before Mean Normalization') # title of plot\n",
    "plt.grid(True) # grid on plot surface\n",
    "plt.show()"
   ]
  },
  {
   "cell_type": "code",
   "execution_count": 15,
   "metadata": {},
   "outputs": [
    {
     "data": {
      "image/png": "[encoded data removed]",
      "text/plain": [
       "<matplotlib.figure.Figure at 0x11455cac8>"
      ]
     },
     "metadata": {},
     "output_type": "display_data"
    }
   ],
   "source": [
    "# let's plot the graph after normalization\n",
    "plt.scatter(x_norm, y_norm) \n",
    "\n",
    "plt.xlabel('Height of father') # xlabel\n",
    "plt.ylabel('Height of mother')# y label\n",
    "plt.title('Scatter plot of heights - After Mean Normalization') # title of plot\n",
    "plt.grid(True) # grid on plot surface\n",
    "plt.show()"
   ]
  },
  {
   "cell_type": "markdown",
   "metadata": {},
   "source": [
    "Now you can understand that, Mean Normalization only changes (check the axis ranges) the magnitude never the distribution of data. You should definitely try optimizing the data without normalizing it and watch the behaviour of our optimizer.  "
   ]
  },
  {
   "cell_type": "code",
   "execution_count": 16,
   "metadata": {
    "collapsed": true
   },
   "outputs": [],
   "source": [
    "# Without Mean Normalization\n",
    "# X_train = x\n",
    "# Y_train = y\n",
    "\n",
    "# With normalization\n",
    "\n",
    "X_train = x_norm\n",
    "Y_train = y_norm\n",
    "\n",
    "# Here, if you missed, our training data is represented as numpy arrays which are essentially matrices. See how easily\n",
    "# we can use them for our further computation. "
   ]
  },
  {
   "cell_type": "markdown",
   "metadata": {},
   "source": [
    "## Optimization"
   ]
  },
  {
   "cell_type": "code",
   "execution_count": 17,
   "metadata": {
    "collapsed": true
   },
   "outputs": [],
   "source": [
    "def optimizer(X_train, Y_train, learning_rate=0.01, training_epochs=10000):\n",
    "    \n",
    "    # Step 1: create placeholders for input X (father_height) and label Y (mother_height)\n",
    "\n",
    "    X = tf.placeholder(tf.float32, name=\"X\")\n",
    "    Y = tf.placeholder(tf.float32, name=\"Y\")\n",
    "\n",
    "\n",
    "    # Step 2: create slope and bias, initialized to 0\n",
    "\n",
    "    a = tf.Variable(0.0, name=\"slope\")\n",
    "    b = tf.Variable(0.0, name=\"bias\")\n",
    "\n",
    "\n",
    "    # Step 3: construct model to predict Y (height of mother/partner) from X (height of father)\n",
    "    # y_pred = a * x + b\n",
    "    Y_predicted = X * a + b\n",
    "\n",
    "    # Step 4: use the square error as the loss function\n",
    "    # we know the loss function (y_true - y_pred)^2\n",
    "    # don't miss the application of vectorization here\n",
    "    loss = tf.square(Y - Y_predicted, name=\"loss\")\n",
    "\n",
    "    # Step 5: scaling it to entire data set\n",
    "    # tf.reduce_mean will calculate the averaged error for us\n",
    "\n",
    "    cost = tf.reduce_mean(loss) # this is out cost function\n",
    "\n",
    "    # Step 6: the one line code of our optimization technique\n",
    "    # here we've used Gradient Descent and learning rate is a parameter \n",
    "    # optimizer minimize cost we defined above. \n",
    "\n",
    "    optimizer = tf.train.GradientDescentOptimizer(learning_rate).minimize(cost)\n",
    "\n",
    "\n",
    "    with tf.Session() as sess:\n",
    "        \n",
    "    # Step 7: initialize the all necessary variables, in this case, w and b\n",
    "        sess.run(tf.global_variables_initializer())\n",
    "        cost_list = []\n",
    "        a_value = []\n",
    "        b_value = []\n",
    "        iterations = []\n",
    "    # Step 8: train the model\n",
    "        for i in range(training_epochs+1): # run desired no. of epochs\n",
    "            # Session runs train_op to minimize loss\n",
    "            _, loss_value = sess.run([optimizer, cost], feed_dict={X: X_train, Y:Y_train}) \n",
    "            if i%1000 == 0:\n",
    "                # all these values changes at end of one epoch\n",
    "                # this is the recurring process we've discussed in theory part\n",
    "                cost_list.append(loss_value) \n",
    "                a_value.append(sess.run(a))\n",
    "                b_value.append(sess.run(b))\n",
    "                iterations.append(i)\n",
    "    return cost_list, a_value, b_value, iterations"
   ]
  },
  {
   "cell_type": "code",
   "execution_count": 18,
   "metadata": {
    "collapsed": true
   },
   "outputs": [],
   "source": [
    "# Training \n",
    "cost_list, a_value, b_value, iterations = optimizer(X_train, Y_train, learning_rate=0.01, training_epochs=10000)"
   ]
  },
  {
   "cell_type": "code",
   "execution_count": 19,
   "metadata": {},
   "outputs": [
    {
     "data": {
      "image/png": "[encoded data removed]",
      "text/plain": [
       "<matplotlib.figure.Figure at 0x11465bb70>"
      ]
     },
     "metadata": {},
     "output_type": "display_data"
    }
   ],
   "source": [
    "# Let's plot the cost to iterations to check if the cost is reducing as we expect or this whole tutorial was a lie :D \n",
    "\n",
    "plt.plot(iterations, cost_list) # let's plot the graph\n",
    "\n",
    "plt.xlabel('Iterations') # xlabel\n",
    "plt.ylabel('Cost')# y label\n",
    "plt.title('Cost Function') # title of plot\n",
    "plt.grid(True) # grid on plot surface\n",
    "plt.show()"
   ]
  },
  {
   "cell_type": "markdown",
   "metadata": {},
   "source": [
    "Hurray !!! Our boy is indeed reaching towards the valley. Let's have a look at our $a_{opt}$ and $b_{opt}$."
   ]
  },
  {
   "cell_type": "code",
   "execution_count": 20,
   "metadata": {},
   "outputs": [
    {
     "name": "stdout",
     "output_type": "stream",
     "text": [
      "Optimum slope value after 10000 epochs: 0.15296973288059235\n",
      "Optimum Y intercept value after 10000 epochs: 1.8032759729891268e-09\n"
     ]
    }
   ],
   "source": [
    "a_opt = a_value[-1]\n",
    "b_opt = b_value[-1]\n",
    "print(\"Optimum slope value after 10000 epochs: {}\".format(a_opt))\n",
    "print(\"Optimum Y intercept value after 10000 epochs: {}\".format(b_opt))"
   ]
  },
  {
   "cell_type": "markdown",
   "metadata": {},
   "source": [
    "Let's plot the fit on our data and check if it is doing justice. "
   ]
  },
  {
   "cell_type": "code",
   "execution_count": 21,
   "metadata": {},
   "outputs": [
    {
     "data": {
      "image/png": "[encoded data removed]",
      "text/plain": [
       "<matplotlib.figure.Figure at 0x114891f60>"
      ]
     },
     "metadata": {},
     "output_type": "display_data"
    }
   ],
   "source": [
    "fig, ax = plt.subplots()\n",
    "ax.plot(X_train, a_opt * X_train + b_opt, color='red')\n",
    "ax.scatter(X_train, Y_train)\n",
    "plt.xlabel('Height of father') # xlabel\n",
    "plt.ylabel('Height of mother')# y label\n",
    "plt.title('Scatter plot of heights with fitted line - After Mean Normalization') # title of plot\n",
    "plt.grid(True) # grid on plot surface\n",
    "plt.show()\n",
    "plt.show()"
   ]
  },
  {
   "cell_type": "markdown",
   "metadata": {},
   "source": [
    "Now, I'm so excited to find out my partner's expected height. WOO-HOO !!!\n",
    "\n",
    "For that we need one a conversion function which can deal with the mean normalization."
   ]
  },
  {
   "cell_type": "code",
   "execution_count": 22,
   "metadata": {
    "collapsed": true
   },
   "outputs": [],
   "source": [
    "def predict(my_height, X, a_opt, b_opt):\n",
    "    \"\"\"\n",
    "    Predict the height of the partner \n",
    "    \"\"\"\n",
    "    mean = np.mean(X)\n",
    "    min_val = np.min(X)\n",
    "    max_val = np.max(X)\n",
    "    mean_norm_my_height = (my_height - mean)/(max_val - min_val)\n",
    "    mean_norm_partner_height = a_opt * mean_norm_my_height + b_opt\n",
    "    partner_height = (max_val - min_val) * mean_norm_partner_height + mean\n",
    "    return partner_height"
   ]
  },
  {
   "cell_type": "code",
   "execution_count": 25,
   "metadata": {},
   "outputs": [
    {
     "name": "stdout",
     "output_type": "stream",
     "text": [
      "My height in cms: 168.0\n",
      "My partner's height in cms: 175.08173779553826\n"
     ]
    }
   ],
   "source": [
    "my_height = 168.0\n",
    "print(\"My height in cms: {}\".format(my_height))\n",
    "print(\"My partner's height in cms: {}\".format(predict(my_height, x, a_opt, b_opt)))"
   ]
  },
  {
   "cell_type": "markdown",
   "metadata": {},
   "source": [
    "Ouch ! that hurts my male chauvinist ego. :D :D :D But according to the data, I should get a taller women :D \n",
    "Try yours ;) \n",
    "\n",
    "Jokes apart, these results may not reflect real life all the time but Linear Regression is made use of, in many practical conditions. Check some of them [here](https://www.southampton.ac.uk/passs/confidence_in_the_police/multivariate_analysis/multiple_linear_regression.page), [here](http://adsabs.harvard.edu/abs/1990ApJ...364..104I) and [here](http://www.investopedia.com/articles/trading/09/linear-regression-time-price.asp) and [here](http://www.dummies.com/personal-finance/investing/technical-analysis/how-to-use-a-linear-regression-to-identify-market-trends/).\n",
    "\n",
    "Well, that's it. We've learned to code Linear Regression using TensorFlow. On closing notes, I would like to mention two or three concepts breifly here. \n",
    "\n",
    "1. Learning rate\n",
    "    - We know that learning rate is the step size our optimization algorithm takes at once. So what will happen if we take a small step? It'll consume a lot of time to reach the valley. What about a big step? We may miss our optimum value. So we shoud tune learning rate considering this trade-off. Learn more about learning rate [here.](https://medium.com/towards-data-science/learning-rate-schedules-and-adaptive-learning-rate-methods-for-deep-learning-2c8f433990d1)\n",
    "    - Try optimizing on different values of learning rate and plot the cost graph. You'll get more intuitions.\n",
    "2. Try changing the initial values of our parameters, as this can significantly affect the way Gradient Descent algorithm works.\n",
    "\n",
    "---------------------------------------\n",
    "\n",
    "```\n",
    "Baby, what is your height? ;)\n",
    "You don't know that? :@ It's 152.\n",
    "Okay :|\n",
    "```\n",
    "Outliers are always special :D :D \n",
    "I hope you had a great time :) \n",
    "Happy learning !"
   ]
  }
 ],
 "metadata": {
  "kernelspec": {
   "display_name": "Python 3",
   "language": "python",
   "name": "python3"
  },
  "language_info": {
   "codemirror_mode": {
    "name": "ipython",
    "version": 3
   },
   "file_extension": ".py",
   "mimetype": "text/x-python",
   "name": "python",
   "nbconvert_exporter": "python",
   "pygments_lexer": "ipython3",
   "version": "3.6.1"
  }
 },
 "nbformat": 4,
 "nbformat_minor": 2
}
